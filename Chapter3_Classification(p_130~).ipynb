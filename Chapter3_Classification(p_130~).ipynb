{
  "nbformat": 4,
  "nbformat_minor": 0,
  "metadata": {
    "colab": {
      "name": "Chapter3_Classification(p.130~).ipynb",
      "provenance": [],
      "collapsed_sections": [],
      "authorship_tag": "ABX9TyMqDU1i12xLCcZXWev00xNc",
      "include_colab_link": true
    },
    "kernelspec": {
      "name": "python3",
      "display_name": "Python 3"
    },
    "language_info": {
      "name": "python"
    },
    "accelerator": "GPU"
  },
  "cells": [
    {
      "cell_type": "markdown",
      "metadata": {
        "id": "view-in-github",
        "colab_type": "text"
      },
      "source": [
        "<a href=\"https://colab.research.google.com/github/temple17/hands-on-ml-practice/blob/main/Chapter3_Classification(p_130~).ipynb\" target=\"_parent\"><img src=\"https://colab.research.google.com/assets/colab-badge.svg\" alt=\"Open In Colab\"/></a>"
      ]
    },
    {
      "cell_type": "code",
      "metadata": {
        "id": "KV3T35SV-raA"
      },
      "source": [
        "import pandas as pd\n",
        "import numpy as np\n",
        "import seaborn as sns\n",
        "import matplotlib.pyplot as plt\n",
        "\n",
        "%matplotlib inline"
      ],
      "execution_count": 1,
      "outputs": []
    },
    {
      "cell_type": "code",
      "metadata": {
        "id": "0fwK6fTc-4X3",
        "colab": {
          "base_uri": "https://localhost:8080/"
        },
        "outputId": "58ab670c-7a12-465f-e89b-8b513f00ff20"
      },
      "source": [
        "# Download MNIST dataset\n",
        "\n",
        "from sklearn.datasets import fetch_openml\n",
        "\n",
        "mnist = fetch_openml('mnist_784', version = 1, as_frame = False)\n",
        "\n",
        "mnist.keys()"
      ],
      "execution_count": 9,
      "outputs": [
        {
          "output_type": "execute_result",
          "data": {
            "text/plain": [
              "dict_keys(['data', 'target', 'frame', 'categories', 'feature_names', 'target_names', 'DESCR', 'details', 'url'])"
            ]
          },
          "metadata": {},
          "execution_count": 9
        }
      ]
    },
    {
      "cell_type": "code",
      "metadata": {
        "id": "IWf9emB4QJMZ"
      },
      "source": [
        "X, y = mnist['data'], mnist['target']"
      ],
      "execution_count": 10,
      "outputs": []
    },
    {
      "cell_type": "code",
      "metadata": {
        "colab": {
          "base_uri": "https://localhost:8080/"
        },
        "id": "x43lSsNBQuN7",
        "outputId": "958e7cf5-79d2-45d7-c9db-b23c12cf425e"
      },
      "source": [
        "X.shape"
      ],
      "execution_count": 11,
      "outputs": [
        {
          "output_type": "execute_result",
          "data": {
            "text/plain": [
              "(70000, 784)"
            ]
          },
          "metadata": {},
          "execution_count": 11
        }
      ]
    },
    {
      "cell_type": "code",
      "metadata": {
        "colab": {
          "base_uri": "https://localhost:8080/"
        },
        "id": "NgF4CU66Quv8",
        "outputId": "b675ac3d-9af1-4a56-b4fe-af28d86a79d4"
      },
      "source": [
        "y.shape"
      ],
      "execution_count": 12,
      "outputs": [
        {
          "output_type": "execute_result",
          "data": {
            "text/plain": [
              "(70000,)"
            ]
          },
          "metadata": {},
          "execution_count": 12
        }
      ]
    },
    {
      "cell_type": "code",
      "metadata": {
        "id": "i8ZgA4yuQvXw"
      },
      "source": [
        "import matplotlib as mpl"
      ],
      "execution_count": 13,
      "outputs": []
    },
    {
      "cell_type": "code",
      "metadata": {
        "colab": {
          "base_uri": "https://localhost:8080/",
          "height": 248
        },
        "id": "CZjivzGaQ4Ye",
        "outputId": "2ad527a0-67d5-4725-8cf6-2144b1cceb43"
      },
      "source": [
        "some_digit = X[0]\n",
        "some_digit_image = some_digit.reshape(28, 28)\n",
        "\n",
        "plt.imshow(some_digit_image, cmap = 'binary')\n",
        "plt.axis('off')\n",
        "plt.show()"
      ],
      "execution_count": 14,
      "outputs": [
        {
          "output_type": "display_data",
          "data": {
            "image/png": "[encoded data removed]",
            "text/plain": [
              "<Figure size 432x288 with 1 Axes>"
            ]
          },
          "metadata": {
            "needs_background": "light"
          }
        }
      ]
    },
    {
      "cell_type": "code",
      "metadata": {
        "colab": {
          "base_uri": "https://localhost:8080/",
          "height": 36
        },
        "id": "o66uHvs7Q5cc",
        "outputId": "c170c785-8c06-4bf1-ff81-3065567b1f6b"
      },
      "source": [
        "y[0]"
      ],
      "execution_count": 15,
      "outputs": [
        {
          "output_type": "execute_result",
          "data": {
            "application/vnd.google.colaboratory.intrinsic+json": {
              "type": "string"
            },
            "text/plain": [
              "'5'"
            ]
          },
          "metadata": {},
          "execution_count": 15
        }
      ]
    },
    {
      "cell_type": "code",
      "metadata": {
        "id": "yK5StY4XR3nX"
      },
      "source": [
        "y = y.astype(np.uint8)"
      ],
      "execution_count": 17,
      "outputs": []
    },
    {
      "cell_type": "code",
      "metadata": {
        "id": "ihiVSJKJR9pl"
      },
      "source": [
        "X_train, X_test, y_train, y_test = X[:60000], X[60000:], y[:60000], y[60000:] "
      ],
      "execution_count": 18,
      "outputs": []
    },
    {
      "cell_type": "code",
      "metadata": {
        "id": "nJVbUFySSPXh"
      },
      "source": [
        "# Training a Binary Classifier\n",
        "\n",
        "# 5-detector\n",
        "\n",
        "y_train_5 = (y_train == 5) # True for all 5s, False for all other digits\n",
        "y_test_5 = (y_test == 5)"
      ],
      "execution_count": 19,
      "outputs": []
    },
    {
      "cell_type": "code",
      "metadata": {
        "id": "_g2izwppStHQ"
      },
      "source": [
        "# Stochastic Gradient Descent (SGD)\n",
        "\n",
        "from sklearn.linear_model import SGDClassifier"
      ],
      "execution_count": 20,
      "outputs": []
    },
    {
      "cell_type": "code",
      "metadata": {
        "colab": {
          "base_uri": "https://localhost:8080/"
        },
        "id": "Tl2uyn1bS43g",
        "outputId": "97e9b78f-79af-403d-b0cd-904aacf23302"
      },
      "source": [
        "sgd_clf = SGDClassifier(random_state = 42)\n",
        "sgd_clf.fit(X_train, y_train_5)"
      ],
      "execution_count": 21,
      "outputs": [
        {
          "output_type": "execute_result",
          "data": {
            "text/plain": [
              "SGDClassifier(random_state=42)"
            ]
          },
          "metadata": {},
          "execution_count": 21
        }
      ]
    },
    {
      "cell_type": "code",
      "metadata": {
        "colab": {
          "base_uri": "https://localhost:8080/"
        },
        "id": "2Est92QiS_R9",
        "outputId": "a3c38cbb-7bce-47a3-dc99-156008dba3d2"
      },
      "source": [
        "sgd_clf.predict([some_digit])"
      ],
      "execution_count": 22,
      "outputs": [
        {
          "output_type": "execute_result",
          "data": {
            "text/plain": [
              "array([ True])"
            ]
          },
          "metadata": {},
          "execution_count": 22
        }
      ]
    },
    {
      "cell_type": "code",
      "metadata": {
        "colab": {
          "base_uri": "https://localhost:8080/"
        },
        "id": "jVPrwQ23TIL1",
        "outputId": "d24fea0a-e984-4b54-ab68-aca179b17327"
      },
      "source": [
        "# Performance Measures\n",
        "\n",
        "# Measuring Accuracy Using Cross-validation\n",
        "\n",
        "# Implementing Cross-validation\n",
        "\n",
        "from sklearn.model_selection import StratifiedKFold\n",
        "from sklearn.base import clone\n",
        "\n",
        "skfolds = StratifiedKFold(n_splits = 3, random_state = 42, shuffle = True)\n",
        "\n",
        "for train_index, test_index in skfolds.split(X_train, y_train_5):\n",
        "    clone_clf = clone(sgd_clf)\n",
        "    X_train_folds = X_train[train_index]\n",
        "    y_train_folds = y_train_5[train_index]\n",
        "    X_test_fold = X_train[test_index]\n",
        "    y_test_fold = y_train_5[test_index]\n",
        "\n",
        "    clone_clf.fit(X_train_folds, y_train_folds)\n",
        "    y_pred = clone_clf.predict(X_test_fold)\n",
        "    n_correct = sum(y_pred == y_test_fold)\n",
        "    print(n_correct / len(y_pred)) # prints 0.9502, 0.96565, and 0.96495"
      ],
      "execution_count": 24,
      "outputs": [
        {
          "output_type": "stream",
          "name": "stdout",
          "text": [
            "0.9669\n",
            "0.91625\n",
            "0.96785\n"
          ]
        }
      ]
    },
    {
      "cell_type": "code",
      "metadata": {
        "id": "mBTydfAIUg8F"
      },
      "source": [
        "from sklearn.model_selection import cross_val_score"
      ],
      "execution_count": 25,
      "outputs": []
    },
    {
      "cell_type": "code",
      "metadata": {
        "colab": {
          "base_uri": "https://localhost:8080/"
        },
        "id": "u91hfCJaVUll",
        "outputId": "fa69116f-4478-4266-ced0-73168b276df1"
      },
      "source": [
        "cross_val_score(sgd_clf, X_train, y_train_5, cv = 3, scoring = 'accuracy')"
      ],
      "execution_count": 27,
      "outputs": [
        {
          "output_type": "execute_result",
          "data": {
            "text/plain": [
              "array([0.95035, 0.96035, 0.9604 ])"
            ]
          },
          "metadata": {},
          "execution_count": 27
        }
      ]
    },
    {
      "cell_type": "code",
      "metadata": {
        "id": "WrWLLenVVabo"
      },
      "source": [
        "from sklearn.base import BaseEstimator\n",
        "\n",
        "class Never5Classifier(BaseEstimator):\n",
        "    def fit(self, X, y= None):\n",
        "        pass\n",
        "\n",
        "    def predict(self, X):\n",
        "        return np.zeros((len(X), 1), dtype = bool)"
      ],
      "execution_count": 31,
      "outputs": []
    },
    {
      "cell_type": "code",
      "metadata": {
        "colab": {
          "base_uri": "https://localhost:8080/"
        },
        "id": "25ATPF4MV1k3",
        "outputId": "8745c8ec-c905-4984-e79e-f2b117078aae"
      },
      "source": [
        "never_5_clf = Never5Classifier()\n",
        "\n",
        "cross_val_score(never_5_clf, X_train, y_train_5, cv = 3,scoring = 'accuracy')"
      ],
      "execution_count": 32,
      "outputs": [
        {
          "output_type": "execute_result",
          "data": {
            "text/plain": [
              "array([0.91125, 0.90855, 0.90915])"
            ]
          },
          "metadata": {},
          "execution_count": 32
        }
      ]
    },
    {
      "cell_type": "code",
      "metadata": {
        "colab": {
          "base_uri": "https://localhost:8080/",
          "height": 54
        },
        "id": "B9wJuCj6V_wI",
        "outputId": "91071498-550a-4a24-8749-fe9e2202e610"
      },
      "source": [
        "\"\"\"This is just because only about 10% of the images are 5s,\n",
        "soo if you always guess that an image is not a 5, you will be right about 90% \n",
        "of the time.\n",
        "This demonstrates why accuracy is generally not the preferred performance measure for classifier\n",
        "\"\"\""
      ],
      "execution_count": 34,
      "outputs": [
        {
          "output_type": "execute_result",
          "data": {
            "application/vnd.google.colaboratory.intrinsic+json": {
              "type": "string"
            },
            "text/plain": [
              "'This is just because only about 10% of the images are 5s,\\nsoo if you always guess that an image is not a 5, you will be right about 90% \\nof the time.\\nThis demonstrates why accuracy is generally not the preferred performance measure for classifier\\n'"
            ]
          },
          "metadata": {},
          "execution_count": 34
        }
      ]
    },
    {
      "cell_type": "code",
      "metadata": {
        "id": "u3m1ndXeWwUG"
      },
      "source": [
        "# Confusion Matrix\n",
        "\n",
        "# A much better way to evaluate the performance of a classifier is to look at the confusion matrix.\n",
        "\n",
        "# The general idea is to count the number of times instances of class A are classified as class B.\n",
        "\n",
        "from sklearn.model_selection import cross_val_predict\n",
        "\n",
        "y_train_pred = cross_val_predict(sgd_clf, X_train, y_train_5, cv = 3)"
      ],
      "execution_count": 35,
      "outputs": []
    },
    {
      "cell_type": "code",
      "metadata": {
        "colab": {
          "base_uri": "https://localhost:8080/"
        },
        "id": "tNqcdjnoXj5q",
        "outputId": "38b93ab0-f6bb-49f6-9d6b-0cf089ab5fed"
      },
      "source": [
        "# Instead of returning the evaluation scores, it returns the predictions made on each test fold\n",
        "\n",
        "# This means that you get a clean prediction for each instance in the training set\n",
        "\n",
        "from sklearn.metrics import confusion_matrix\n",
        "confusion_matrix(y_train_5, y_train_pred)"
      ],
      "execution_count": 36,
      "outputs": [
        {
          "output_type": "execute_result",
          "data": {
            "text/plain": [
              "array([[53892,   687],\n",
              "       [ 1891,  3530]])"
            ]
          },
          "metadata": {},
          "execution_count": 36
        }
      ]
    },
    {
      "cell_type": "code",
      "metadata": {
        "colab": {
          "base_uri": "https://localhost:8080/",
          "height": 36
        },
        "id": "xfD_FlLIYDbv",
        "outputId": "59ba9e80-733d-4452-c397-f58781bd28bd"
      },
      "source": [
        "# Each row in a confusion matrix represents an actual class,\n",
        "# while each column represents a predicted class\n",
        "\n",
        "# The first row of this matrix considers non-5-images(negative class) : 53,057\n",
        "# of them were correctly classified as non-5s(true negative)\n",
        "\n",
        "# while the remaining 687 were wrongly classified as 5s (false positives)\n",
        "\n",
        "# The second row considers the images of 5s (the positive class) : 1891 were\n",
        "# wrongly classified as non-5s (false negative), while the remaining 3530\n",
        "# were correctly classified as 5s (true positives)\n",
        "\n",
        "\"\"\"A perfect classifier would have only true positives and true negatives, \n",
        "so its confusion matrix would have nonzero values only on its main diagonal\n",
        "(top left to bottom right)\"\"\""
      ],
      "execution_count": 37,
      "outputs": [
        {
          "output_type": "execute_result",
          "data": {
            "application/vnd.google.colaboratory.intrinsic+json": {
              "type": "string"
            },
            "text/plain": [
              "'A perfect classifier would have only true positives and true negatives, \\nso its confusion matrix would have nonzero values only on its main diagonal\\n(top left to bottom right)'"
            ]
          },
          "metadata": {},
          "execution_count": 37
        }
      ]
    },
    {
      "cell_type": "code",
      "metadata": {
        "colab": {
          "base_uri": "https://localhost:8080/"
        },
        "id": "fGOGelvhZJjt",
        "outputId": "a7ad08b1-70ab-4a22-a3ac-04f364521419"
      },
      "source": [
        "y_train_perfect_predictions = y_train_5 # pretend we reached perfection\n",
        "\n",
        "confusion_matrix(y_train_5, y_train_perfect_predictions)"
      ],
      "execution_count": 38,
      "outputs": [
        {
          "output_type": "execute_result",
          "data": {
            "text/plain": [
              "array([[54579,     0],\n",
              "       [    0,  5421]])"
            ]
          },
          "metadata": {},
          "execution_count": 38
        }
      ]
    },
    {
      "cell_type": "code",
      "metadata": {
        "id": "P_hsyGJ5ZUvp"
      },
      "source": [
        "\"\"\"Use TPR (true positive rate)\n",
        "this is the ratio of positive instances that are correctly detected by the classifier.\"\"\""
      ],
      "execution_count": null,
      "outputs": []
    }
  ]
}