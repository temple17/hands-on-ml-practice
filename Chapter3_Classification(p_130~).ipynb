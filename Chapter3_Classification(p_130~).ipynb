{
  "nbformat": 4,
  "nbformat_minor": 0,
  "metadata": {
    "colab": {
      "name": "Chapter3_Classification(p.130~).ipynb",
      "provenance": [],
      "collapsed_sections": [],
      "authorship_tag": "ABX9TyMDTCKIe3onYao37Is+ZtYZ",
      "include_colab_link": true
    },
    "kernelspec": {
      "name": "python3",
      "display_name": "Python 3"
    },
    "language_info": {
      "name": "python"
    },
    "accelerator": "GPU"
  },
  "cells": [
    {
      "cell_type": "markdown",
      "metadata": {
        "id": "view-in-github",
        "colab_type": "text"
      },
      "source": [
        "<a href=\"https://colab.research.google.com/github/temple17/hands-on-ml-practice/blob/main/Chapter3_Classification(p_130~).ipynb\" target=\"_parent\"><img src=\"https://colab.research.google.com/assets/colab-badge.svg\" alt=\"Open In Colab\"/></a>"
      ]
    },
    {
      "cell_type": "code",
      "metadata": {
        "id": "KV3T35SV-raA"
      },
      "source": [
        "import pandas as pd\n",
        "import numpy as np\n",
        "import seaborn as sns\n",
        "import matplotlib.pyplot as plt\n",
        "\n",
        "%matplotlib inline"
      ],
      "execution_count": 1,
      "outputs": []
    },
    {
      "cell_type": "code",
      "metadata": {
        "id": "0fwK6fTc-4X3",
        "colab": {
          "base_uri": "https://localhost:8080/"
        },
        "outputId": "c6798d40-8319-470d-a87d-90341e40143d"
      },
      "source": [
        "# Download MNIST dataset\n",
        "\n",
        "from sklearn.datasets import fetch_openml\n",
        "\n",
        "mnist = fetch_openml('mnist_784', version = 1, as_frame = False)\n",
        "\n",
        "mnist.keys()"
      ],
      "execution_count": 2,
      "outputs": [
        {
          "output_type": "execute_result",
          "data": {
            "text/plain": [
              "dict_keys(['data', 'target', 'frame', 'categories', 'feature_names', 'target_names', 'DESCR', 'details', 'url'])"
            ]
          },
          "metadata": {},
          "execution_count": 2
        }
      ]
    },
    {
      "cell_type": "code",
      "metadata": {
        "id": "IWf9emB4QJMZ"
      },
      "source": [
        "X, y = mnist['data'], mnist['target']"
      ],
      "execution_count": 3,
      "outputs": []
    },
    {
      "cell_type": "code",
      "metadata": {
        "colab": {
          "base_uri": "https://localhost:8080/"
        },
        "id": "x43lSsNBQuN7",
        "outputId": "68ce3cc0-a4c3-46c2-a6e3-1aacdcd0f038"
      },
      "source": [
        "X.shape"
      ],
      "execution_count": 4,
      "outputs": [
        {
          "output_type": "execute_result",
          "data": {
            "text/plain": [
              "(70000, 784)"
            ]
          },
          "metadata": {},
          "execution_count": 4
        }
      ]
    },
    {
      "cell_type": "code",
      "metadata": {
        "colab": {
          "base_uri": "https://localhost:8080/"
        },
        "id": "NgF4CU66Quv8",
        "outputId": "49fed530-c2b4-4f37-8360-fbfd9e4343c5"
      },
      "source": [
        "y.shape"
      ],
      "execution_count": 5,
      "outputs": [
        {
          "output_type": "execute_result",
          "data": {
            "text/plain": [
              "(70000,)"
            ]
          },
          "metadata": {},
          "execution_count": 5
        }
      ]
    },
    {
      "cell_type": "code",
      "metadata": {
        "id": "i8ZgA4yuQvXw"
      },
      "source": [
        "import matplotlib as mpl"
      ],
      "execution_count": 6,
      "outputs": []
    },
    {
      "cell_type": "code",
      "metadata": {
        "colab": {
          "base_uri": "https://localhost:8080/",
          "height": 248
        },
        "id": "CZjivzGaQ4Ye",
        "outputId": "5cf87d96-f233-4845-bb1a-f79cc6c17ea9"
      },
      "source": [
        "some_digit = X[0]\n",
        "some_digit_image = some_digit.reshape(28, 28)\n",
        "\n",
        "plt.imshow(some_digit_image, cmap = 'binary')\n",
        "plt.axis('off')\n",
        "plt.show()"
      ],
      "execution_count": 7,
      "outputs": [
        {
          "output_type": "display_data",
          "data": {
            "image/png": "[encoded data removed]",
            "text/plain": [
              "<Figure size 432x288 with 1 Axes>"
            ]
          },
          "metadata": {
            "needs_background": "light"
          }
        }
      ]
    },
    {
      "cell_type": "code",
      "metadata": {
        "colab": {
          "base_uri": "https://localhost:8080/",
          "height": 36
        },
        "id": "o66uHvs7Q5cc",
        "outputId": "7eca5d3d-b058-4db4-937c-194fed851b84"
      },
      "source": [
        "y[0]"
      ],
      "execution_count": 8,
      "outputs": [
        {
          "output_type": "execute_result",
          "data": {
            "application/vnd.google.colaboratory.intrinsic+json": {
              "type": "string"
            },
            "text/plain": [
              "'5'"
            ]
          },
          "metadata": {},
          "execution_count": 8
        }
      ]
    },
    {
      "cell_type": "code",
      "metadata": {
        "id": "yK5StY4XR3nX"
      },
      "source": [
        "y = y.astype(np.uint8)"
      ],
      "execution_count": 9,
      "outputs": []
    },
    {
      "cell_type": "code",
      "metadata": {
        "id": "ihiVSJKJR9pl"
      },
      "source": [
        "X_train, X_test, y_train, y_test = X[:60000], X[60000:], y[:60000], y[60000:] "
      ],
      "execution_count": 10,
      "outputs": []
    },
    {
      "cell_type": "code",
      "metadata": {
        "id": "nJVbUFySSPXh"
      },
      "source": [
        "# Training a Binary Classifier\n",
        "\n",
        "# 5-detector\n",
        "\n",
        "y_train_5 = (y_train == 5) # True for all 5s, False for all other digits\n",
        "y_test_5 = (y_test == 5)"
      ],
      "execution_count": 11,
      "outputs": []
    },
    {
      "cell_type": "code",
      "metadata": {
        "id": "_g2izwppStHQ"
      },
      "source": [
        "# Stochastic Gradient Descent (SGD)\n",
        "\n",
        "from sklearn.linear_model import SGDClassifier"
      ],
      "execution_count": 12,
      "outputs": []
    },
    {
      "cell_type": "code",
      "metadata": {
        "colab": {
          "base_uri": "https://localhost:8080/"
        },
        "id": "Tl2uyn1bS43g",
        "outputId": "f9ab27ff-02ac-4e19-8a7e-dcad8717fb62"
      },
      "source": [
        "sgd_clf = SGDClassifier(random_state = 42)\n",
        "sgd_clf.fit(X_train, y_train_5)"
      ],
      "execution_count": 13,
      "outputs": [
        {
          "output_type": "execute_result",
          "data": {
            "text/plain": [
              "SGDClassifier(random_state=42)"
            ]
          },
          "metadata": {},
          "execution_count": 13
        }
      ]
    },
    {
      "cell_type": "code",
      "metadata": {
        "colab": {
          "base_uri": "https://localhost:8080/"
        },
        "id": "2Est92QiS_R9",
        "outputId": "5628ccc8-17a5-48c5-9fdf-39c68ba1714a"
      },
      "source": [
        "sgd_clf.predict([some_digit])"
      ],
      "execution_count": 14,
      "outputs": [
        {
          "output_type": "execute_result",
          "data": {
            "text/plain": [
              "array([ True])"
            ]
          },
          "metadata": {},
          "execution_count": 14
        }
      ]
    },
    {
      "cell_type": "code",
      "metadata": {
        "colab": {
          "base_uri": "https://localhost:8080/"
        },
        "id": "jVPrwQ23TIL1",
        "outputId": "6209b48f-c188-42e8-eb0d-8cd177053021"
      },
      "source": [
        "# Performance Measures\n",
        "\n",
        "# Measuring Accuracy Using Cross-validation\n",
        "\n",
        "# Implementing Cross-validation\n",
        "\n",
        "from sklearn.model_selection import StratifiedKFold\n",
        "from sklearn.base import clone\n",
        "\n",
        "skfolds = StratifiedKFold(n_splits = 3, random_state = 42, shuffle = True)\n",
        "\n",
        "for train_index, test_index in skfolds.split(X_train, y_train_5):\n",
        "    clone_clf = clone(sgd_clf)\n",
        "    X_train_folds = X_train[train_index]\n",
        "    y_train_folds = y_train_5[train_index]\n",
        "    X_test_fold = X_train[test_index]\n",
        "    y_test_fold = y_train_5[test_index]\n",
        "\n",
        "    clone_clf.fit(X_train_folds, y_train_folds)\n",
        "    y_pred = clone_clf.predict(X_test_fold)\n",
        "    n_correct = sum(y_pred == y_test_fold)\n",
        "    print(n_correct / len(y_pred)) # prints 0.9502, 0.96565, and 0.96495"
      ],
      "execution_count": 15,
      "outputs": [
        {
          "output_type": "stream",
          "name": "stdout",
          "text": [
            "0.9669\n",
            "0.91625\n",
            "0.96785\n"
          ]
        }
      ]
    },
    {
      "cell_type": "code",
      "metadata": {
        "id": "mBTydfAIUg8F"
      },
      "source": [
        "from sklearn.model_selection import cross_val_score"
      ],
      "execution_count": 16,
      "outputs": []
    },
    {
      "cell_type": "code",
      "metadata": {
        "colab": {
          "base_uri": "https://localhost:8080/"
        },
        "id": "u91hfCJaVUll",
        "outputId": "5c3d8eb4-8b7a-46ca-e22a-8e86d7ece41f"
      },
      "source": [
        "cross_val_score(sgd_clf, X_train, y_train_5, cv = 3, scoring = 'accuracy')"
      ],
      "execution_count": 17,
      "outputs": [
        {
          "output_type": "execute_result",
          "data": {
            "text/plain": [
              "array([0.95035, 0.96035, 0.9604 ])"
            ]
          },
          "metadata": {},
          "execution_count": 17
        }
      ]
    },
    {
      "cell_type": "code",
      "metadata": {
        "id": "WrWLLenVVabo"
      },
      "source": [
        "from sklearn.base import BaseEstimator\n",
        "\n",
        "class Never5Classifier(BaseEstimator):\n",
        "    def fit(self, X, y= None):\n",
        "        pass\n",
        "\n",
        "    def predict(self, X):\n",
        "        return np.zeros((len(X), 1), dtype = bool)"
      ],
      "execution_count": 18,
      "outputs": []
    },
    {
      "cell_type": "code",
      "metadata": {
        "colab": {
          "base_uri": "https://localhost:8080/"
        },
        "id": "25ATPF4MV1k3",
        "outputId": "5295813d-91c6-4d2c-e0ef-f2c458c006bf"
      },
      "source": [
        "never_5_clf = Never5Classifier()\n",
        "\n",
        "cross_val_score(never_5_clf, X_train, y_train_5, cv = 3,scoring = 'accuracy')"
      ],
      "execution_count": 19,
      "outputs": [
        {
          "output_type": "execute_result",
          "data": {
            "text/plain": [
              "array([0.91125, 0.90855, 0.90915])"
            ]
          },
          "metadata": {},
          "execution_count": 19
        }
      ]
    },
    {
      "cell_type": "code",
      "metadata": {
        "colab": {
          "base_uri": "https://localhost:8080/",
          "height": 54
        },
        "id": "B9wJuCj6V_wI",
        "outputId": "fa68882e-095c-4108-eaad-23201ad6ad63"
      },
      "source": [
        "\"\"\"This is just because only about 10% of the images are 5s,\n",
        "soo if you always guess that an image is not a 5, you will be right about 90% \n",
        "of the time.\n",
        "This demonstrates why accuracy is generally not the preferred performance measure for classifier\n",
        "\"\"\""
      ],
      "execution_count": 20,
      "outputs": [
        {
          "output_type": "execute_result",
          "data": {
            "application/vnd.google.colaboratory.intrinsic+json": {
              "type": "string"
            },
            "text/plain": [
              "'This is just because only about 10% of the images are 5s,\\nsoo if you always guess that an image is not a 5, you will be right about 90% \\nof the time.\\nThis demonstrates why accuracy is generally not the preferred performance measure for classifier\\n'"
            ]
          },
          "metadata": {},
          "execution_count": 20
        }
      ]
    },
    {
      "cell_type": "code",
      "metadata": {
        "id": "u3m1ndXeWwUG"
      },
      "source": [
        "# Confusion Matrix\n",
        "\n",
        "# A much better way to evaluate the performance of a classifier is to look at the confusion matrix.\n",
        "\n",
        "# The general idea is to count the number of times instances of class A are classified as class B.\n",
        "\n",
        "from sklearn.model_selection import cross_val_predict\n",
        "\n",
        "y_train_pred = cross_val_predict(sgd_clf, X_train, y_train_5, cv = 3)"
      ],
      "execution_count": 21,
      "outputs": []
    },
    {
      "cell_type": "code",
      "metadata": {
        "colab": {
          "base_uri": "https://localhost:8080/"
        },
        "id": "tNqcdjnoXj5q",
        "outputId": "7a4a740e-b081-46b4-f358-2bc6754181b0"
      },
      "source": [
        "# Instead of returning the evaluation scores, it returns the predictions made on each test fold\n",
        "\n",
        "# This means that you get a clean prediction for each instance in the training set\n",
        "\n",
        "from sklearn.metrics import confusion_matrix\n",
        "confusion_matrix(y_train_5, y_train_pred)"
      ],
      "execution_count": 22,
      "outputs": [
        {
          "output_type": "execute_result",
          "data": {
            "text/plain": [
              "array([[53892,   687],\n",
              "       [ 1891,  3530]])"
            ]
          },
          "metadata": {},
          "execution_count": 22
        }
      ]
    },
    {
      "cell_type": "code",
      "metadata": {
        "colab": {
          "base_uri": "https://localhost:8080/",
          "height": 36
        },
        "id": "xfD_FlLIYDbv",
        "outputId": "daef9793-83ee-440c-90ec-929b0ca53d5e"
      },
      "source": [
        "# Each row in a confusion matrix represents an actual class,\n",
        "# while each column represents a predicted class\n",
        "\n",
        "# The first row of this matrix considers non-5-images(negative class) : 53,057\n",
        "# of them were correctly classified as non-5s(true negative)\n",
        "\n",
        "# while the remaining 687 were wrongly classified as 5s (false positives)\n",
        "\n",
        "# The second row considers the images of 5s (the positive class) : 1891 were\n",
        "# wrongly classified as non-5s (false negative), while the remaining 3530\n",
        "# were correctly classified as 5s (true positives)\n",
        "\n",
        "\"\"\"A perfect classifier would have only true positives and true negatives, \n",
        "so its confusion matrix would have nonzero values only on its main diagonal\n",
        "(top left to bottom right)\"\"\""
      ],
      "execution_count": 23,
      "outputs": [
        {
          "output_type": "execute_result",
          "data": {
            "application/vnd.google.colaboratory.intrinsic+json": {
              "type": "string"
            },
            "text/plain": [
              "'A perfect classifier would have only true positives and true negatives, \\nso its confusion matrix would have nonzero values only on its main diagonal\\n(top left to bottom right)'"
            ]
          },
          "metadata": {},
          "execution_count": 23
        }
      ]
    },
    {
      "cell_type": "code",
      "metadata": {
        "colab": {
          "base_uri": "https://localhost:8080/"
        },
        "id": "fGOGelvhZJjt",
        "outputId": "c40e39ed-7066-443c-be44-5d4523787e5a"
      },
      "source": [
        "y_train_perfect_predictions = y_train_5 # pretend we reached perfection\n",
        "\n",
        "confusion_matrix(y_train_5, y_train_perfect_predictions)"
      ],
      "execution_count": 24,
      "outputs": [
        {
          "output_type": "execute_result",
          "data": {
            "text/plain": [
              "array([[54579,     0],\n",
              "       [    0,  5421]])"
            ]
          },
          "metadata": {},
          "execution_count": 24
        }
      ]
    },
    {
      "cell_type": "code",
      "metadata": {
        "id": "aCigVvgLAOqn"
      },
      "source": [
        "from sklearn.metrics import precision_score, recall_score"
      ],
      "execution_count": 25,
      "outputs": []
    },
    {
      "cell_type": "code",
      "metadata": {
        "colab": {
          "base_uri": "https://localhost:8080/"
        },
        "id": "godMbvuQAUdx",
        "outputId": "81cdbe57-4d5a-47ad-9d54-cff9dfa44896"
      },
      "source": [
        "precision_score(y_train_5, y_train_pred)"
      ],
      "execution_count": 26,
      "outputs": [
        {
          "output_type": "execute_result",
          "data": {
            "text/plain": [
              "0.8370879772350012"
            ]
          },
          "metadata": {},
          "execution_count": 26
        }
      ]
    },
    {
      "cell_type": "code",
      "metadata": {
        "colab": {
          "base_uri": "https://localhost:8080/"
        },
        "id": "izUshpHeAY9_",
        "outputId": "5ff83e34-3209-4255-9741-4b02b17a35f3"
      },
      "source": [
        "recall_score(y_train_5, y_train_pred)"
      ],
      "execution_count": 27,
      "outputs": [
        {
          "output_type": "execute_result",
          "data": {
            "text/plain": [
              "0.6511713705958311"
            ]
          },
          "metadata": {},
          "execution_count": 27
        }
      ]
    },
    {
      "cell_type": "code",
      "metadata": {
        "colab": {
          "base_uri": "https://localhost:8080/"
        },
        "id": "0TVacQ2_Aejp",
        "outputId": "0118e2aa-0043-4aad-d044-54a01abacfa5"
      },
      "source": [
        "# f1 score\n",
        "from sklearn.metrics import f1_score\n",
        "\n",
        "f1_score(y_train_5, y_train_pred)"
      ],
      "execution_count": 28,
      "outputs": [
        {
          "output_type": "execute_result",
          "data": {
            "text/plain": [
              "0.7325171197343846"
            ]
          },
          "metadata": {},
          "execution_count": 28
        }
      ]
    },
    {
      "cell_type": "code",
      "metadata": {
        "id": "tmrImkerAesp"
      },
      "source": [
        ""
      ],
      "execution_count": 28,
      "outputs": []
    },
    {
      "cell_type": "code",
      "metadata": {
        "id": "P_hsyGJ5ZUvp",
        "colab": {
          "base_uri": "https://localhost:8080/",
          "height": 36
        },
        "outputId": "d923f135-9527-4d66-ac20-1f878453ec43"
      },
      "source": [
        "\"\"\"Use TPR (true positive rate)\n",
        "this is the ratio of positive instances that are correctly detected by the classifier.\"\"\""
      ],
      "execution_count": 29,
      "outputs": [
        {
          "output_type": "execute_result",
          "data": {
            "application/vnd.google.colaboratory.intrinsic+json": {
              "type": "string"
            },
            "text/plain": [
              "'Use TPR (true positive rate)\\nthis is the ratio of positive instances that are correctly detected by the classifier.'"
            ]
          },
          "metadata": {},
          "execution_count": 29
        }
      ]
    },
    {
      "cell_type": "code",
      "metadata": {
        "colab": {
          "base_uri": "https://localhost:8080/"
        },
        "id": "n60Nu5pWfXcu",
        "outputId": "9ba78358-0737-4733-9586-9cbd3b66abff"
      },
      "source": [
        "# Precision/Recall trade-off\n",
        "\n",
        "y_scores = sgd_clf.decision_function([some_digit])\n",
        "y_scores"
      ],
      "execution_count": 30,
      "outputs": [
        {
          "output_type": "execute_result",
          "data": {
            "text/plain": [
              "array([2164.22030239])"
            ]
          },
          "metadata": {},
          "execution_count": 30
        }
      ]
    },
    {
      "cell_type": "code",
      "metadata": {
        "id": "BqbblAyof-eL"
      },
      "source": [
        "threshold = 0\n",
        "y_some_digit_pred = (y_scores > threshold)"
      ],
      "execution_count": 31,
      "outputs": []
    },
    {
      "cell_type": "code",
      "metadata": {
        "colab": {
          "base_uri": "https://localhost:8080/"
        },
        "id": "TJu1swlNgD98",
        "outputId": "af29e780-326f-4075-b92a-910162c7da87"
      },
      "source": [
        "threshold = 8000\n",
        "y_some_digit_pred = (y_scores > threshold)\n",
        "y_some_digit_pred"
      ],
      "execution_count": 32,
      "outputs": [
        {
          "output_type": "execute_result",
          "data": {
            "text/plain": [
              "array([False])"
            ]
          },
          "metadata": {},
          "execution_count": 32
        }
      ]
    },
    {
      "cell_type": "code",
      "metadata": {
        "id": "NhANIIWxgLDt"
      },
      "source": [
        "\"\"\"How to decide which threshold to use?\n",
        "First, use the cross_val_predict() function to get the scores of all instances \n",
        "in the training set\"\"\"\n",
        "\n",
        "y_scores = cross_val_predict(sgd_clf, X_train, y_train_5, cv = 3,\n",
        "                             method = 'decision_function')"
      ],
      "execution_count": 33,
      "outputs": []
    },
    {
      "cell_type": "code",
      "metadata": {
        "id": "MUs2fjAhgsdM"
      },
      "source": [
        "from sklearn.metrics import precision_recall_curve\n",
        "\n",
        "precisions, recalls, thresholds = precision_recall_curve(y_train_5, y_scores)"
      ],
      "execution_count": 34,
      "outputs": []
    },
    {
      "cell_type": "code",
      "metadata": {
        "id": "HRY6rgs8g4JZ"
      },
      "source": [
        "def plot_precision_recall_vs_threshold(precisions, recalls, thresholds):\n",
        "    plt.plot(thresholds, precisions[:-1], 'b--', label = 'Precision')\n",
        "    plt.plot(thresholds, recalls[:-1], 'g-', label = 'Recall')\n",
        "    # highlight the threshold and add the legend, axis label, and grid\n"
      ],
      "execution_count": 35,
      "outputs": []
    },
    {
      "cell_type": "code",
      "metadata": {
        "colab": {
          "base_uri": "https://localhost:8080/",
          "height": 863
        },
        "id": "-FaNjqs2hI1x",
        "outputId": "c530b423-feb0-40f2-d133-19ccdb0a0db9"
      },
      "source": [
        "plt.figure(figsize = (20,15))\n",
        "plot_precision_recall_vs_threshold(precisions, recalls, thresholds)\n",
        "plt.legend()\n",
        "plt.grid()"
      ],
      "execution_count": 36,
      "outputs": [
        {
          "output_type": "display_data",
          "data": {
            "image/png": "[encoded data removed]",
            "text/plain": [
              "<Figure size 1440x1080 with 1 Axes>"
            ]
          },
          "metadata": {
            "needs_background": "light"
          }
        }
      ]
    },
    {
      "cell_type": "code",
      "metadata": {
        "id": "OBIzKtS-hWze"
      },
      "source": [
        "threshold_90_precision = thresholds[np.argmax(precisions >= 0.90)]"
      ],
      "execution_count": 37,
      "outputs": []
    },
    {
      "cell_type": "code",
      "metadata": {
        "id": "V8GgmqWaiRjG"
      },
      "source": [
        "y_train_pred_90 = (y_scores >= threshold_90_precision)"
      ],
      "execution_count": 38,
      "outputs": []
    },
    {
      "cell_type": "code",
      "metadata": {
        "colab": {
          "base_uri": "https://localhost:8080/"
        },
        "id": "MjDss5WJiXE3",
        "outputId": "76856294-b2f9-4409-848d-fe68582fa693"
      },
      "source": [
        "from sklearn.metrics import precision_score\n",
        "\n",
        "from sklearn.metrics import recall_score\n",
        "precision_score(y_train_5, y_train_pred_90)"
      ],
      "execution_count": 39,
      "outputs": [
        {
          "output_type": "execute_result",
          "data": {
            "text/plain": [
              "0.9000345901072293"
            ]
          },
          "metadata": {},
          "execution_count": 39
        }
      ]
    },
    {
      "cell_type": "code",
      "metadata": {
        "colab": {
          "base_uri": "https://localhost:8080/"
        },
        "id": "IAM6xosyiasz",
        "outputId": "414a550b-6433-4a33-e0b3-6311af74bd03"
      },
      "source": [
        "recall_score(y_train_5, y_train_pred_90)"
      ],
      "execution_count": 40,
      "outputs": [
        {
          "output_type": "execute_result",
          "data": {
            "text/plain": [
              "0.4799852425751706"
            ]
          },
          "metadata": {},
          "execution_count": 40
        }
      ]
    },
    {
      "cell_type": "code",
      "metadata": {
        "id": "Y1x3BgCpipYv"
      },
      "source": [
        "# ROC curve\n",
        "\n",
        "from sklearn.metrics import roc_curve"
      ],
      "execution_count": 41,
      "outputs": []
    },
    {
      "cell_type": "code",
      "metadata": {
        "id": "Zh0kOzRcBbLw"
      },
      "source": [
        "fpr, tpr, thresholds = roc_curve(y_train_5, y_scores)"
      ],
      "execution_count": 42,
      "outputs": []
    },
    {
      "cell_type": "code",
      "metadata": {
        "id": "tpOd2f28Bfml"
      },
      "source": [
        "def plot_roc_curve(fpr, tpr, label = None):\n",
        "    plt.plot(fpr, tpr, linewidth = 2, label = label)\n",
        "    plt.plot([0,1], [0,1], 'k--') # Dashed diagonal\n",
        "    plt.grid()"
      ],
      "execution_count": 43,
      "outputs": []
    },
    {
      "cell_type": "code",
      "metadata": {
        "colab": {
          "base_uri": "https://localhost:8080/",
          "height": 483
        },
        "id": "AdavSt4vBv-g",
        "outputId": "427f2a6a-a00b-416b-9bf0-37d3854e555c"
      },
      "source": [
        "plt.figure(figsize = (10,8))\n",
        "plot_roc_curve(fpr, tpr)"
      ],
      "execution_count": 44,
      "outputs": [
        {
          "output_type": "display_data",
          "data": {
            "image/png": "[encoded data removed]",
            "text/plain": [
              "<Figure size 720x576 with 1 Axes>"
            ]
          },
          "metadata": {
            "needs_background": "light"
          }
        }
      ]
    },
    {
      "cell_type": "code",
      "metadata": {
        "colab": {
          "base_uri": "https://localhost:8080/"
        },
        "id": "XMPVYMnOBx_r",
        "outputId": "2bd33ab5-1e9a-488d-8cbf-908b8cf5e20e"
      },
      "source": [
        "# compute ROC AUC(area under the curve)\n",
        "\n",
        "from sklearn.metrics import roc_auc_score\n",
        "\n",
        "roc_auc_score(y_train_5, y_scores)"
      ],
      "execution_count": 45,
      "outputs": [
        {
          "output_type": "execute_result",
          "data": {
            "text/plain": [
              "0.9604938554008616"
            ]
          },
          "metadata": {},
          "execution_count": 45
        }
      ]
    },
    {
      "cell_type": "code",
      "metadata": {
        "id": "YOMdC16DCU1N"
      },
      "source": [
        "# train a RandomForestClassifier and compare its ROC curve \n",
        "# and ROC AUC score to those of the SGDClassifier\n",
        "\n",
        "from sklearn.ensemble import RandomForestClassifier"
      ],
      "execution_count": 46,
      "outputs": []
    },
    {
      "cell_type": "code",
      "metadata": {
        "id": "h-srmy6GCy8F"
      },
      "source": [
        "forest_clf = RandomForestClassifier(random_state = 42)\n",
        "y_probas_forest = cross_val_predict(forest_clf, X_train, y_train_5, cv = 3,\n",
        "                                  method = 'predict_proba')"
      ],
      "execution_count": 47,
      "outputs": []
    },
    {
      "cell_type": "code",
      "metadata": {
        "id": "KJrNx5P6DLZU"
      },
      "source": [
        "y_scores_forest = y_probas_forest[:, 1] # score = proba of positive class\n",
        "\n",
        "fpr_forest, tpr_forest, thresholds_forest = roc_curve(y_train_5, y_scores_forest)\n",
        "\n"
      ],
      "execution_count": 48,
      "outputs": []
    },
    {
      "cell_type": "code",
      "metadata": {
        "colab": {
          "base_uri": "https://localhost:8080/",
          "height": 501
        },
        "id": "2HIgAuz5D_FV",
        "outputId": "60a1ad03-1e6c-4ea7-d478-696ebb976d4d"
      },
      "source": [
        "plt.figure(figsize = (10,8))\n",
        "plt.plot(fpr, tpr, 'b:', label = 'SGD')\n",
        "plot_roc_curve(fpr_forest, tpr_forest, \"Random Forest\")\n",
        "plt.legend(loc = 'lower right')\n"
      ],
      "execution_count": 49,
      "outputs": [
        {
          "output_type": "execute_result",
          "data": {
            "text/plain": [
              "<matplotlib.legend.Legend at 0x7fd269e6af50>"
            ]
          },
          "metadata": {},
          "execution_count": 49
        },
        {
          "output_type": "display_data",
          "data": {
            "image/png": "[encoded data removed]",
            "text/plain": [
              "<Figure size 720x576 with 1 Axes>"
            ]
          },
          "metadata": {
            "needs_background": "light"
          }
        }
      ]
    },
    {
      "cell_type": "code",
      "metadata": {
        "colab": {
          "base_uri": "https://localhost:8080/"
        },
        "id": "bPDLqdBzELgo",
        "outputId": "c678711a-0ff7-4b30-d761-a1a7054537c6"
      },
      "source": [
        "# ROC AUC score\n",
        "roc_auc_score(y_train_5, y_scores_forest)"
      ],
      "execution_count": 50,
      "outputs": [
        {
          "output_type": "execute_result",
          "data": {
            "text/plain": [
              "0.9983436731328145"
            ]
          },
          "metadata": {},
          "execution_count": 50
        }
      ]
    },
    {
      "cell_type": "code",
      "metadata": {
        "id": "r98eH_kMEZIY",
        "colab": {
          "base_uri": "https://localhost:8080/",
          "height": 36
        },
        "outputId": "5e85201b-9c5b-4c7f-9ff8-18b3708c8a03"
      },
      "source": [
        "# Multiclass Classification\n",
        "\n",
        "# 1. First strategy\n",
        "\"\"\"one-versus-the-rest(OvR) strategy = one-versus-all\n",
        ": create a system that can classify the digit images into 10 classes(from 0 to 9)\n",
        "is to train 10 binary classifiers(0-detector, 1-detector,...)\n",
        "\"\"\"\n",
        "\n",
        "# 2. Second strategy\n",
        "\"\"\" one-versus-one(OvO) strategy\n",
        ": train a binary classifier for every pair of digits: one to distinguish 0s and 1s\n",
        "another to 0s and 2s, and so on. \n",
        "\"\"\"\n",
        "\n",
        "# 45 binary classifiers for MNIST problem\n",
        "# N * (N-1) / 2\n",
        "\n",
        "# For most binary classification algorithms, OvR is preferred"
      ],
      "execution_count": 52,
      "outputs": [
        {
          "output_type": "execute_result",
          "data": {
            "application/vnd.google.colaboratory.intrinsic+json": {
              "type": "string"
            },
            "text/plain": [
              "' one-versus-one(OvO) strategy\\n: train a binary classifier for every pair of digits: one to distinguish 0s and 1s\\nanother to 0s and 2s, and so on. \\n'"
            ]
          },
          "metadata": {},
          "execution_count": 52
        }
      ]
    },
    {
      "cell_type": "code",
      "metadata": {
        "id": "mT6ETyzhjTuS"
      },
      "source": [
        "from sklearn.svm import SVC"
      ],
      "execution_count": 53,
      "outputs": []
    },
    {
      "cell_type": "code",
      "metadata": {
        "colab": {
          "base_uri": "https://localhost:8080/"
        },
        "id": "D1CzLQvjjVcW",
        "outputId": "887ea382-4f41-45d2-db6f-b8089ea31ea1"
      },
      "source": [
        "svm_clf = SVC()\n",
        "#svm_clf.fit(X_train, y_train) # Not y_train_5\n",
        "#svm_clf.predict([some_digit])"
      ],
      "execution_count": 55,
      "outputs": [
        {
          "output_type": "execute_result",
          "data": {
            "text/plain": [
              "array([5], dtype=uint8)"
            ]
          },
          "metadata": {},
          "execution_count": 55
        }
      ]
    },
    {
      "cell_type": "code",
      "metadata": {
        "colab": {
          "base_uri": "https://localhost:8080/"
        },
        "id": "HFFF_ngMjdUR",
        "outputId": "37dd1da4-f367-4031-8519-8f601e61107f"
      },
      "source": [
        "some_digit_scores = svm_clf.decision_function([some_digit])\n",
        "some_digit_scores"
      ],
      "execution_count": 56,
      "outputs": [
        {
          "output_type": "execute_result",
          "data": {
            "text/plain": [
              "array([[ 1.72501977,  2.72809088,  7.2510018 ,  8.3076379 , -0.31087254,\n",
              "         9.3132482 ,  1.70975103,  2.76765202,  6.23049537,  4.84771048]])"
            ]
          },
          "metadata": {},
          "execution_count": 56
        }
      ]
    },
    {
      "cell_type": "code",
      "metadata": {
        "colab": {
          "base_uri": "https://localhost:8080/"
        },
        "id": "zEgsSW7DlyKF",
        "outputId": "d3fffec4-4bce-4303-b121-29e74c333486"
      },
      "source": [
        "np.argmax(some_digit_scores)"
      ],
      "execution_count": 58,
      "outputs": [
        {
          "output_type": "execute_result",
          "data": {
            "text/plain": [
              "5"
            ]
          },
          "metadata": {},
          "execution_count": 58
        }
      ]
    },
    {
      "cell_type": "code",
      "metadata": {
        "colab": {
          "base_uri": "https://localhost:8080/"
        },
        "id": "271KH_91l1Xg",
        "outputId": "db6d6c22-aaaf-4efb-b812-2a0027434242"
      },
      "source": [
        "svm_clf.classes_"
      ],
      "execution_count": 59,
      "outputs": [
        {
          "output_type": "execute_result",
          "data": {
            "text/plain": [
              "array([0, 1, 2, 3, 4, 5, 6, 7, 8, 9], dtype=uint8)"
            ]
          },
          "metadata": {},
          "execution_count": 59
        }
      ]
    },
    {
      "cell_type": "code",
      "metadata": {
        "colab": {
          "base_uri": "https://localhost:8080/"
        },
        "id": "9Ishupi3l6Y6",
        "outputId": "ae57c371-8481-42cf-823d-091989bd23e8"
      },
      "source": [
        "svm_clf.classes_[5]"
      ],
      "execution_count": 61,
      "outputs": [
        {
          "output_type": "execute_result",
          "data": {
            "text/plain": [
              "5"
            ]
          },
          "metadata": {},
          "execution_count": 61
        }
      ]
    },
    {
      "cell_type": "code",
      "metadata": {
        "id": "wrYZQbMVl8xj"
      },
      "source": [
        "# force to use one-versus-one or one-versus-the-rest\n",
        "\n",
        "from sklearn.multiclass import OneVsRestClassifier"
      ],
      "execution_count": 62,
      "outputs": []
    },
    {
      "cell_type": "code",
      "metadata": {
        "id": "OG-3XWMDmIV_"
      },
      "source": [
        "ovr_clf = OneVsRestClassifier(SVC())\n",
        "#ovr_clf.fit(X_train, y_train)\n",
        "#ovr_clf.predict([some_digit])\n",
        "#len(ovr_clf.estimators_)"
      ],
      "execution_count": null,
      "outputs": []
    },
    {
      "cell_type": "code",
      "metadata": {
        "id": "aDjnt1KGmQzw"
      },
      "source": [
        "#sgd_clf.fit(X_trian, y_train)\n",
        "#sgd_clf.predict([some_digit])"
      ],
      "execution_count": null,
      "outputs": []
    },
    {
      "cell_type": "code",
      "metadata": {
        "id": "H8VEgs1wnU7e"
      },
      "source": [
        "# cross_validation\n",
        "\n",
        "cross_val_score(sgd_clf, X_train, y_train, cv = 3, scoring = 'accuracy')"
      ],
      "execution_count": null,
      "outputs": []
    },
    {
      "cell_type": "code",
      "metadata": {
        "id": "pm9pKc3Vnc--"
      },
      "source": [
        "# Scaling the inputs than get better performance\n",
        "\n",
        "from sklearn.preprocessing import StandardScaler\n",
        "\n",
        "sclaer = StandardScaler()\n",
        "X_train_scaled = scaler.fit_transform(X_train.astype(np.float64))\n",
        "corss_val_score(sgd_clf, X_train_scaled, y_train, cv = 3, scoring = 'accuracy')"
      ],
      "execution_count": null,
      "outputs": []
    },
    {
      "cell_type": "code",
      "metadata": {
        "id": "KfTrsISTonLq"
      },
      "source": [
        "# Error analysis"
      ],
      "execution_count": null,
      "outputs": []
    }
  ]
}